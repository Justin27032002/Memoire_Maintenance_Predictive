{
 "cells": [
  {
   "cell_type": "code",
   "execution_count": 0,
   "metadata": {
    "application/vnd.databricks.v1+cell": {
     "cellMetadata": {},
     "inputWidgets": {},
     "nuid": "a316a062-1701-4477-8343-1c179154e621",
     "showTitle": false,
     "tableResultSettingsMap": {},
     "title": ""
    }
   },
   "outputs": [],
   "source": [
    "\"\"\"\n",
    "Script de préparation finale des données RUL pour apprentissage automatique.\n",
    "\n",
    "Ce script charge le fichier global `all_scenarios_with_RUL.csv` contenant l’ensemble\n",
    "des simulations avec leurs RUL calculées. Il effectue les opérations suivantes :\n",
    "\n",
    "1. Chargement du dataset complet et conversion de `unit_id` en chaîne de caractères.\n",
    "2. Normalisation du temps (`Time`) pour chaque unité : remise à zéro à t=0 pour chaque unité.\n",
    "3. Filtrage des colonnes pour ne garder que les capteurs utiles, la RUL et l’identifiant.\n",
    "4. Sauvegarde dans un fichier `.txt` séparé par des virgules, prêt à être utilisé dans\n",
    "   des notebooks ou des pipelines d'entraînement de modèles ML/DL.\n",
    "5. Affichage de statistiques générales :\n",
    "    - Nombre de lignes / colonnes / unités\n",
    "    - Statistiques descriptives sur la RUL\n",
    "    - Distribution des points par unité\n",
    "    - Aperçu des premières lignes\n",
    "\n",
    "Destination finale :\n",
    "    /Volumes/dbe_dbx_internships/justin/predictive_maintenance/donneeML.txt\n",
    "    \n",
    "\"\"\"\n"
   ]
  },
  {
   "cell_type": "code",
   "execution_count": 0,
   "metadata": {
    "application/vnd.databricks.v1+cell": {
     "cellMetadata": {
      "byteLimit": 2048000,
      "rowLimit": 10000
     },
     "inputWidgets": {},
     "nuid": "54d49244-248a-4d07-b076-b6a954cc4340",
     "showTitle": false,
     "tableResultSettingsMap": {},
     "title": ""
    }
   },
   "outputs": [
    {
     "output_type": "stream",
     "name": "stdout",
     "output_type": "stream",
     "text": [
      " Chargement des données...\n Données chargées : 16,104,431 lignes, 47 colonnes\n Nombre d'unités : 1039\n Normalisation du temps par unité...\n Normalisation terminée\n Sauvegarde vers : /Volumes/dbe_dbx_internships/justin/predictive_maintenance//donneeML.txt\n\n============================================================\n STATISTIQUES GÉNÉRALES SUR donneeML.txt\n============================================================\n Fichier généré : /Volumes/dbe_dbx_internships/justin/predictive_maintenance//donneeML.txt\n Lignes : 16,104,431\n Colonnes : 47\n Unités : 1039\n\n Statistiques RUL :\n   Min      : 0.00\n   Max      : 7001.30\n   Moyenne  : 918.95\n\n Points par unité :\n   Min      : 2101\n   Max      : 70014\n   Moyenne  : 15499.9\n\n Aperçu des premières lignes :\n   Time  ...                                            unit_id\n0   0.0  ...  Sim_10_N_87.96_TOT_678.18_Tamb_311.11_pamb_0.9...\n1   0.1  ...  Sim_10_N_87.96_TOT_678.18_Tamb_311.11_pamb_0.9...\n2   0.2  ...  Sim_10_N_87.96_TOT_678.18_Tamb_311.11_pamb_0.9...\n3   0.3  ...  Sim_10_N_87.96_TOT_678.18_Tamb_311.11_pamb_0.9...\n4   0.4  ...  Sim_10_N_87.96_TOT_678.18_Tamb_311.11_pamb_0.9...\n\n[5 rows x 47 columns]\n"
     ]
    }
   ],
   "source": [
    "import pandas as pd\n",
    "import numpy as np\n",
    "\n",
    "DATA_PATH = \"/Volumes/dbe_dbx_internships/justin/predictive_maintenance/all_scenarios_with_RUL.csv\"\n",
    "SAVE_DIR = \"/Volumes/dbe_dbx_internships/justin/predictive_maintenance/\"\n",
    "OUTPUT_FILE = f\"{SAVE_DIR}/donneeML.txt\"\n",
    "\n",
    "columns_to_keep = [ # Colonnes utiles à conserver (features finales + RUL + unit_id)\n",
    "    \"Time\",\"Nref\",\"N\",\"Power_Shaft\",\"Eff_Cycle\",\"Power_Comp\",\"Power_Turb\",\"Beta_Comp\",\"Beta_Turb\",\n",
    "    \"Is_Eff_Comp\",\"Is_Eff_Turb\",\"T_amb\",\"T_c_in\",\"T_c_out\",\"T_rec_c_in\",\"T_rec_c_out\",\"T_cc_in\",\n",
    "    \"T_cc_out\",\"T_t_in\",\"T_t_out\",\"T_rec_h_in\",\"T_rec_h_out\",\"p_amb\",\"p_c_in\",\"p_c_out\",\n",
    "    \"p_rec_c_in\",\"p_rec_c_out\",\"p_cc_in\",\"p_cc_out\",\"p_t_in\",\"p_t_out\",\"p_rec_h_in\",\"p_rec_h_out\",\n",
    "    \"m_amb\",\"m_c_in\",\"m_c_out\",\"m_rec_c_in\",\"m_rec_c_out\",\"m_cc_in\",\"m_cc_out\",\n",
    "    \"m_t_in\",\"m_t_out\",\"m_rec_h_in\",\"m_rec_h_out\",\"m_fuel\", \"RUL\", \"unit_id\"\n",
    "]\n",
    "\n",
    "print(\" Chargement des données...\")\n",
    "df = pd.read_csv(DATA_PATH)\n",
    "df[\"unit_id\"] = df[\"unit_id\"].astype(str)\n",
    "\n",
    "print(f\" Données chargées : {df.shape[0]:,} lignes, {df.shape[1]} colonnes\")\n",
    "print(f\" Nombre d'unités : {df['unit_id'].nunique()}\")\n",
    "\n",
    "print(\" Normalisation du temps par unité...\")\n",
    "df_reset = df.copy()\n",
    "for uid in df_reset[\"unit_id\"].unique():\n",
    "    mask = df_reset[\"unit_id\"] == uid\n",
    "    df_reset.loc[mask, \"Time\"] -= df_reset.loc[mask, \"Time\"].min()\n",
    "    df_reset.loc[mask, \"Time\"] = df_reset.loc[mask, \"Time\"].round(2)\n",
    "print(\" Normalisation terminée\")\n",
    "\n",
    "df_final = df_reset[columns_to_keep].copy() # Application du filtrage des colonnes\n",
    "\n",
    "print(f\" Sauvegarde vers : {OUTPUT_FILE}\")\n",
    "df_final.to_csv(OUTPUT_FILE, index=False)\n",
    "\n",
    "print(\"\\n\" + \"=\" * 60)\n",
    "print(\" STATISTIQUES GÉNÉRALES SUR donneeML.txt\")\n",
    "print(\"=\" * 60)\n",
    "\n",
    "print(f\" Fichier généré : {OUTPUT_FILE}\")\n",
    "print(f\" Lignes : {df_final.shape[0]:,}\")\n",
    "print(f\" Colonnes : {df_final.shape[1]}\")\n",
    "print(f\" Unités : {df_final['unit_id'].nunique()}\")\n",
    "\n",
    "rul_stats = df_final['RUL'].describe()\n",
    "print(f\"\\n Statistiques RUL :\")\n",
    "print(f\"   Min      : {rul_stats['min']:.2f}\")\n",
    "print(f\"   Max      : {rul_stats['max']:.2f}\")\n",
    "print(f\"   Moyenne  : {rul_stats['mean']:.2f}\")\n",
    "\n",
    "unit_counts = df_final['unit_id'].value_counts()\n",
    "print(f\"\\n Points par unité :\")\n",
    "print(f\"   Min      : {unit_counts.min()}\")\n",
    "print(f\"   Max      : {unit_counts.max()}\")\n",
    "print(f\"   Moyenne  : {unit_counts.mean():.1f}\")\n",
    "\n",
    "print(\"\\n Aperçu des premières lignes :\")\n",
    "print(df_final.head())\n"
   ]
  }
 ],
 "metadata": {
  "application/vnd.databricks.v1+notebook": {
   "computePreferences": null,
   "dashboards": [],
   "environmentMetadata": {
    "base_environment": "",
    "environment_version": "2"
   },
   "inputWidgetPreferences": null,
   "language": "python",
   "notebookMetadata": {
    "pythonIndentUnit": 2
   },
   "notebookName": "Preparation_RUL_ML_2",
   "widgets": {}
  },
  "language_info": {
   "name": "python"
  }
 },
 "nbformat": 4,
 "nbformat_minor": 0
}